{
 "cells": [
  {
   "cell_type": "code",
   "execution_count": 2,
   "metadata": {},
   "outputs": [],
   "source": [
    "from collections import namedtuple\n",
    "\n",
    "PlayerEntry = namedtuple('PlayerEntry', 'timestamp playerid')"
   ]
  },
  {
   "cell_type": "code",
   "execution_count": 3,
   "metadata": {},
   "outputs": [
    {
     "data": {
      "text/plain": [
       "PlayerEntry(timestamp=datetime.datetime(2020, 6, 15, 21, 51, 35, 96892), playerid='9af58b65d1204f36954758a015779b5d')"
      ]
     },
     "execution_count": 3,
     "metadata": {},
     "output_type": "execute_result"
    }
   ],
   "source": [
    "from uuid import uuid4\n",
    "from datetime import datetime, timedelta\n",
    "\n",
    "PlayerEntry(datetime.now(), uuid4().hex)"
   ]
  },
  {
   "cell_type": "code",
   "execution_count": 4,
   "metadata": {},
   "outputs": [
    {
     "data": {
      "text/plain": [
       "PlayerEntry(timestamp=datetime.datetime(2020, 6, 15, 22, 3, 9, 658110), playerid='a905d12463dc422885609c66006dfecf')"
      ]
     },
     "execution_count": 4,
     "metadata": {},
     "output_type": "execute_result"
    }
   ],
   "source": [
    "from random import randrange\n",
    "\n",
    "def create_rand_entry(start_time, end_time):\n",
    "    dtime = end_time - start_time\n",
    "    rtime = randrange(0, dtime.seconds)\n",
    "    timestamp = start_time + timedelta(seconds=rtime)\n",
    "    playerid = uuid4().hex\n",
    "    return PlayerEntry(timestamp, playerid)\n",
    "\n",
    "stime = datetime.now()\n",
    "etime = stime + timedelta(hours=1)\n",
    "\n",
    "create_rand_entry(stime, etime)"
   ]
  },
  {
   "cell_type": "code",
   "execution_count": 5,
   "metadata": {},
   "outputs": [],
   "source": [
    "from queue import PriorityQueue\n",
    "\n",
    "total_entries = 1000\n",
    "player_queue = PriorityQueue(0)\n",
    "\n",
    "for i in range(total_entries):\n",
    "    e = create_rand_entry(stime, etime)\n",
    "    player_queue.put(e)"
   ]
  },
  {
   "cell_type": "code",
   "execution_count": 6,
   "metadata": {},
   "outputs": [],
   "source": [
    "matched = list()\n",
    "\n",
    "while not player_queue.empty():\n",
    "    if player_queue.qsize() < 2:\n",
    "        break\n",
    "    p1 = player_queue.get()\n",
    "    p2 = player_queue.get()\n",
    "    matched.append((p1, p2))"
   ]
  },
  {
   "cell_type": "code",
   "execution_count": 7,
   "metadata": {},
   "outputs": [
    {
     "data": {
      "text/plain": [
       "28"
      ]
     },
     "execution_count": 7,
     "metadata": {},
     "output_type": "execute_result"
    }
   ],
   "source": [
    "wait_times = [(p2.timestamp - p1.timestamp).seconds for p1, p2 in matched]\n",
    "\n",
    "max(wait_times)"
   ]
  },
  {
   "cell_type": "code",
   "execution_count": 8,
   "metadata": {},
   "outputs": [
    {
     "data": {
      "image/png": "[encoded data removed]",
      "text/plain": [
       "<Figure size 432x288 with 1 Axes>"
      ]
     },
     "metadata": {
      "needs_background": "light"
     },
     "output_type": "display_data"
    }
   ],
   "source": [
    "import matplotlib.pyplot as plt\n",
    "\n",
    "fig, ax = plt.subplots()\n",
    "ax.hist(wait_times)\n",
    "\n",
    "plt.show()"
   ]
  },
  {
   "cell_type": "code",
   "execution_count": null,
   "metadata": {},
   "outputs": [],
   "source": []
  }
 ],
 "metadata": {
  "kernelspec": {
   "display_name": "matchmaker",
   "language": "python",
   "name": "matchmaker"
  },
  "language_info": {
   "codemirror_mode": {
    "name": "ipython",
    "version": 3
   },
   "file_extension": ".py",
   "mimetype": "text/x-python",
   "name": "python",
   "nbconvert_exporter": "python",
   "pygments_lexer": "ipython3",
   "version": "3.7.7"
  }
 },
 "nbformat": 4,
 "nbformat_minor": 4
}
