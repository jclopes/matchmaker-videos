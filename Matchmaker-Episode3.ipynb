{
 "cells": [
  {
   "cell_type": "code",
   "execution_count": null,
   "metadata": {},
   "outputs": [],
   "source": [
    "from collections import namedtuple\n",
    "\n",
    "PlayerEntry = namedtuple('PlayerEntry', 'timestamp playerid rank')"
   ]
  },
  {
   "cell_type": "code",
   "execution_count": null,
   "metadata": {},
   "outputs": [],
   "source": [
    "from uuid import uuid4\n",
    "from datetime import datetime, timedelta\n",
    "\n",
    "rank_names = ['bronze', 'silver', 'gold', 'platinum',\n",
    "              'diamond', 'master', 'grandmaster']\n",
    "rank_sizes = [0.08, 0.21, 0.32, 0.25, 0.10, 0.03, 0.01]\n",
    "\n",
    "stime = datetime.now()\n",
    "etime = stime + timedelta(hours=1)\n",
    "total_entries = 1000\n"
   ]
  },
  {
   "cell_type": "code",
   "execution_count": null,
   "metadata": {},
   "outputs": [],
   "source": [
    "from random import randrange\n",
    "import random\n",
    "\n",
    "def create_rand_entry(start_time, end_time):\n",
    "    dtime = end_time - start_time\n",
    "    rtime = randrange(0, dtime.seconds)\n",
    "    timestamp = start_time + timedelta(seconds=rtime)\n",
    "    playerid = uuid4().hex\n",
    "    rank = random.choices(rank_names, rank_sizes)\n",
    "\n",
    "    return PlayerEntry(timestamp, playerid, rank[0])\n",
    "\n",
    "create_rand_entry(stime, etime)"
   ]
  },
  {
   "cell_type": "code",
   "execution_count": null,
   "metadata": {},
   "outputs": [],
   "source": [
    "from queue import PriorityQueue\n",
    "\n",
    "player_queue = PriorityQueue(0)\n",
    "\n",
    "for i in range(total_entries):\n",
    "    e = create_rand_entry(stime, etime)\n",
    "    player_queue.put(e)"
   ]
  },
  {
   "cell_type": "code",
   "execution_count": null,
   "metadata": {},
   "outputs": [],
   "source": [
    "matched = list()\n",
    "# cache for each rank\n",
    "match_rank = dict(zip(rank_names, [[],[],[],[],[],[],[]]))\n",
    "\n",
    "while not player_queue.empty():\n",
    "    p = player_queue.get()\n",
    "    # we check if there is already another player with the same rank\n",
    "    if match_rank[p.rank] == []:\n",
    "        # save player to our cache\n",
    "        match_rank[p.rank].append(p)\n",
    "    else:\n",
    "        # remove the player on the cache and match it with the new found player\n",
    "        matched.append((match_rank[p.rank].pop(), p))"
   ]
  },
  {
   "cell_type": "code",
   "execution_count": null,
   "metadata": {},
   "outputs": [],
   "source": [
    "for r in rank_names:\n",
    "    if match_rank[r] != []:\n",
    "        print(\"not matched: %s\" % r)"
   ]
  },
  {
   "cell_type": "code",
   "execution_count": null,
   "metadata": {},
   "outputs": [],
   "source": [
    "# Group waiting times by rank\n",
    "wait_times_by_rank = dict(zip(rank_names,[[],[],[],[],[],[],[]]))\n",
    "for p1, p2 in matched:\n",
    "    wait_times_by_rank[p1.rank].append((p2.timestamp - p1.timestamp).seconds)\n",
    "\n",
    "# Print the longest waiting time for each rank in seconds\n",
    "for i in wait_times_by_rank:\n",
    "    print(i, max(wait_times_by_rank[i]))"
   ]
  },
  {
   "cell_type": "code",
   "execution_count": null,
   "metadata": {},
   "outputs": [],
   "source": [
    "import matplotlib.pyplot as plt\n",
    "\n",
    "fig, ax = plt.subplots()\n",
    "ax.set_title(\"Waiting Times per Rank\")\n",
    "ax.boxplot(\n",
    "    wait_times_by_rank.values(), labels=wait_times_by_rank.keys(),\n",
    "    vert=False, sym='.', whis=[1,99])\n",
    "\n",
    "plt.show()"
   ]
  },
  {
   "cell_type": "code",
   "execution_count": null,
   "metadata": {},
   "outputs": [],
   "source": [
    "rank_count = dict(zip(rank_names,[0,0,0,0,0,0,0]))\n",
    "\n",
    "for (p1, p2) in matched:\n",
    "    rank_count[p1.rank] += 1\n",
    "    rank_count[p2.rank] += 1\n",
    "\n",
    "# Show player percentage per Rank\n",
    "total_players_matched = len(matched) * len(matched[0])\n",
    "percent = list(map(lambda x: (x * 100) // total_players_matched, rank_count.values()))\n",
    "\n",
    "fig, ax = plt.subplots()\n",
    "ax.set_title(\"% player per Rank\")\n",
    "ax.barh(list(rank_count.keys()), percent)\n",
    "\n",
    "plt.show()"
   ]
  },
  {
   "cell_type": "code",
   "execution_count": null,
   "metadata": {
    "scrolled": false
   },
   "outputs": [],
   "source": [
    "rank_id = dict(zip(rank_names,[0,1,2,3,4,5,6]))\n",
    "rank_diff = dict(zip([0,1,2,3,4,5,6], [0,0,0,0,0,0,0]))\n",
    "\n",
    "for (p1, p2) in matched:\n",
    "    p1_id = rank_id[p1.rank]\n",
    "    p2_id = rank_id[p2.rank]\n",
    "    rank_diff[abs(p1_id - p2_id)] += 1\n",
    "\n",
    "fig, ax = plt.subplots()\n",
    "ax.bar(rank_diff.keys(), rank_diff.values())\n",
    "plt.show();"
   ]
  },
  {
   "cell_type": "code",
   "execution_count": null,
   "metadata": {},
   "outputs": [],
   "source": [
    "\n",
    "\n",
    "\n",
    "\n",
    "\n",
    "\n",
    "\n",
    "\n",
    "\n"
   ]
  }
 ],
 "metadata": {
  "kernelspec": {
   "display_name": "matchmaker",
   "language": "python",
   "name": "matchmaker"
  },
  "language_info": {
   "codemirror_mode": {
    "name": "ipython",
    "version": 3
   },
   "file_extension": ".py",
   "mimetype": "text/x-python",
   "name": "python",
   "nbconvert_exporter": "python",
   "pygments_lexer": "ipython3",
   "version": "3.11.3"
  }
 },
 "nbformat": 4,
 "nbformat_minor": 4
}
