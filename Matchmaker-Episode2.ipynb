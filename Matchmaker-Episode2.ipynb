{
 "cells": [
  {
   "cell_type": "code",
   "execution_count": null,
   "metadata": {},
   "outputs": [],
   "source": [
    "from collections import namedtuple\n",
    "\n",
    "PlayerEntry = namedtuple('PlayerEntry', 'timestamp playerid rank')"
   ]
  },
  {
   "cell_type": "code",
   "execution_count": null,
   "metadata": {},
   "outputs": [],
   "source": [
    "from uuid import uuid4\n",
    "from datetime import datetime, timedelta\n",
    "\n",
    "rank_names = ['bronze', 'silver', 'gold', 'platinum',\n",
    "              'diamond', 'master', 'grandmaster']\n",
    "rank_sizes = [0.08, 0.21, 0.32, 0.25, 0.10, 0.03, 0.01]\n",
    "\n",
    "stime = datetime.now()\n",
    "etime = stime + timedelta(hours=1)\n",
    "total_entries = 1000\n",
    "\n"
   ]
  },
  {
   "cell_type": "code",
   "execution_count": null,
   "metadata": {},
   "outputs": [],
   "source": [
    "from random import randrange\n",
    "import random\n",
    "\n",
    "def create_rand_entry(start_time, end_time):\n",
    "    dtime = end_time - start_time\n",
    "    rtime = randrange(0, dtime.seconds)\n",
    "    timestamp = start_time + timedelta(seconds=rtime)\n",
    "    playerid = uuid4().hex\n",
    "    rank = random.choices(rank_names, rank_sizes)\n",
    "\n",
    "    return PlayerEntry(timestamp, playerid, rank[0])\n",
    "\n",
    "create_rand_entry(stime, etime)"
   ]
  },
  {
   "cell_type": "code",
   "execution_count": null,
   "metadata": {},
   "outputs": [],
   "source": [
    "from queue import PriorityQueue\n",
    "\n",
    "player_queue = PriorityQueue(0)\n",
    "\n",
    "for i in range(total_entries):\n",
    "    e = create_rand_entry(stime, etime)\n",
    "    player_queue.put(e)"
   ]
  },
  {
   "cell_type": "code",
   "execution_count": null,
   "metadata": {},
   "outputs": [],
   "source": [
    "matched = list()\n",
    "\n",
    "while not player_queue.empty():\n",
    "    if player_queue.qsize() < 2:\n",
    "        break\n",
    "    p1 = player_queue.get()\n",
    "    p2 = player_queue.get()\n",
    "    matched.append((p1, p2))"
   ]
  },
  {
   "cell_type": "code",
   "execution_count": null,
   "metadata": {},
   "outputs": [],
   "source": [
    "wait_times = [(p2.timestamp - p1.timestamp).seconds for p1, p2 in matched]\n",
    "\n",
    "max(wait_times)"
   ]
  },
  {
   "cell_type": "code",
   "execution_count": null,
   "metadata": {},
   "outputs": [],
   "source": [
    "import matplotlib.pyplot as plt\n",
    "\n",
    "fig, ax = plt.subplots()\n",
    "ax.hist(wait_times)\n",
    "\n",
    "plt.show()"
   ]
  },
  {
   "cell_type": "code",
   "execution_count": null,
   "metadata": {},
   "outputs": [],
   "source": [
    "rank_count = dict(zip(rank_names,[0,0,0,0,0,0,0]))\n",
    "\n",
    "for (p1, p2) in matched:\n",
    "    rank_count[p1.rank] += 1\n",
    "    rank_count[p2.rank] += 1\n",
    "\n",
    "fig, ax = plt.subplots()\n",
    "ax.bar(rank_count.keys(), rank_count.values())\n",
    "plt.show();\n"
   ]
  },
  {
   "cell_type": "code",
   "execution_count": null,
   "metadata": {},
   "outputs": [],
   "source": [
    "\n",
    "\n",
    "\n",
    "\n",
    "\n",
    "\n",
    "\n",
    "\n",
    "\n"
   ]
  }
 ],
 "metadata": {
  "kernelspec": {
   "display_name": "matchmaker",
   "language": "python",
   "name": "matchmaker"
  },
  "language_info": {
   "codemirror_mode": {
    "name": "ipython",
    "version": 3
   },
   "file_extension": ".py",
   "mimetype": "text/x-python",
   "name": "python",
   "nbconvert_exporter": "python",
   "pygments_lexer": "ipython3",
   "version": "3.11.3"
  }
 },
 "nbformat": 4,
 "nbformat_minor": 4
}
